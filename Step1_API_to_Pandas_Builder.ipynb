{
 "cells": [
  {
   "cell_type": "code",
   "execution_count": 1,
   "metadata": {},
   "outputs": [],
   "source": [
    "#pip install datorama\n",
    "import json\n",
    "import requests\n",
    "import numpy\n",
    "import pandas"
   ]
  },
  {
   "cell_type": "code",
   "execution_count": 2,
   "metadata": {},
   "outputs": [],
   "source": [
    "def create_api_format_pandas_df(API_KEY, data):\n",
    "\n",
    "    \"\"\"\n",
    "    Function to create a Query API connection with Datorama, format result of response into JSON format\n",
    "    \n",
    "    params:\n",
    "    API_KEY: Datorama User API Token, only enabled for API-enabled users, string format\n",
    "        To find your Token, navigate to platform.datorama.com > CTRL (CMND) + K > 'My Profile' > Copy from there\n",
    "    API_ENDPOINT: 'https://app.datorama.com/v1/query'\n",
    "        This is a fixed parameter that cannot be changed unless guidance from Datorama Support changes\n",
    "        String format\n",
    "    data: Query copied by the Datorama Query API Builder found here \n",
    "        'https://platform.datorama.com/' + '[WORKSPACE ID]' + '/analyze/query-builder'\n",
    "        Dictionary format\n",
    "    \n",
    "    returns\n",
    "    json_dumped_data: json-formatted data, pulled from the API response\n",
    "        String format\n",
    "    \"\"\"\n",
    "\n",
    "    # Test the API_KEY has been formatted correctly \n",
    "    if not API_KEY.startswith('dato-api-'):\n",
    "        raise NameError(\"Did you forget something?\")\n",
    "        \n",
    "    # Pass your authenticated API_Key into headers\n",
    "    headers = {'content-type': 'application/json', 'Authorization': API_KEY}\n",
    "    \n",
    "    # Ensure the data is in dictionary format\n",
    "    if not type(data) == dict:\n",
    "        raise TypeError(\"You had one job! Copy-pasting is NOT that hard!\")\n",
    "        \n",
    "    # Format your dictionary \"data\" into a json string\n",
    "    payload = json.dumps(data)\n",
    "    \n",
    "    # API_ENDPOINT is a fixed value that will only change when the Datorama Support Team says it does\n",
    "    API_ENDPOINT = 'https://app.datorama.com/v1/query'\n",
    "    \n",
    "    # Pass API_ENDPOINT, headers, and payload into a requests.post function\n",
    "    # We use the \"post\" request because this is how Datorama allows us to retrieve data\n",
    "    r = requests.post(url = API_ENDPOINT, headers = headers, data = payload)\n",
    "    \n",
    "    # Reformat the result of your request into a json string\n",
    "    json_dumped_data = r.json()\n",
    "    \n",
    "    # Parse the relevant response data\n",
    "    response_data = json_dumped_data['queryResponseData']\n",
    "    \n",
    "    # Parse the keys\n",
    "    keys = response_data['headers']\n",
    "    \n",
    "    # Create an empty list, where we will store a list of dictionaries\n",
    "    final_dictionary_vals = []\n",
    "    \n",
    "    # Traverse each row and \"restore\" the data as separate dictionaries\n",
    "    for i in response_data['rows']:\n",
    "        final_dictionary_vals.append(dict(zip(keys,i)))\n",
    "        \n",
    "    # Convert to pandas\n",
    "    final_pandas_df = pandas.DataFrame(final_dictionary_vals)\n",
    "        \n",
    "    return final_pandas_df"
   ]
  },
  {
   "cell_type": "code",
   "execution_count": null,
   "metadata": {},
   "outputs": [],
   "source": []
  }
 ],
 "metadata": {
  "kernelspec": {
   "display_name": "Python 3",
   "language": "python",
   "name": "python3"
  },
  "language_info": {
   "codemirror_mode": {
    "name": "ipython",
    "version": 3
   },
   "file_extension": ".py",
   "mimetype": "text/x-python",
   "name": "python",
   "nbconvert_exporter": "python",
   "pygments_lexer": "ipython3",
   "version": "3.7.6"
  }
 },
 "nbformat": 4,
 "nbformat_minor": 4
}
